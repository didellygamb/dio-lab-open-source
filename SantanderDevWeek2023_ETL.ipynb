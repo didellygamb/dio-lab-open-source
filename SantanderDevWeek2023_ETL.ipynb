{
  "nbformat": 4,
  "nbformat_minor": 0,
  "metadata": {
    "colab": {
      "provenance": [],
      "authorship_tag": "ABX9TyNXM095tnrrqBNRubJqsLTD",
      "include_colab_link": true
    },
    "kernelspec": {
      "name": "python3",
      "display_name": "Python 3"
    },
    "language_info": {
      "name": "python"
    }
  },
  "cells": [
    {
      "cell_type": "markdown",
      "metadata": {
        "id": "view-in-github",
        "colab_type": "text"
      },
      "source": [
        "<a href=\"https://colab.research.google.com/github/didellygamb/dio-lab-open-source/blob/main/SantanderDevWeek2023_ETL.ipynb\" target=\"_parent\"><img src=\"https://colab.research.google.com/assets/colab-badge.svg\" alt=\"Open In Colab\"/></a>"
      ]
    },
    {
      "cell_type": "code",
      "execution_count": 2,
      "metadata": {
        "id": "nCQlU1x0DzLs"
      },
      "outputs": [],
      "source": []
    },
    {
      "cell_type": "markdown",
      "source": [
        "#**Bootcamp Santander Dev Week 2023**\n",
        "\n",
        "Explorando ETL com Python\n",
        "\n",
        "API: https://sdw-2023-prd.up.railway.app/swagger-ui/index.html#/Users%20Controller/findAll"
      ],
      "metadata": {
        "id": "96jRGhtPD3Wb"
      }
    },
    {
      "cell_type": "markdown",
      "source": [],
      "metadata": {
        "id": "07YGdCXoD168"
      }
    },
    {
      "cell_type": "markdown",
      "source": [
        "# Fase de extração dos dados"
      ],
      "metadata": {
        "id": "0XABdMZVaVdn"
      }
    },
    {
      "cell_type": "code",
      "source": [
        "# URL da API disponibilizada pelo bootcamp\n",
        "api_url = 'https://sdw-2023-prd.up.railway.app'"
      ],
      "metadata": {
        "id": "zf_QLiBVESBr"
      },
      "execution_count": 3,
      "outputs": []
    },
    {
      "cell_type": "code",
      "source": [
        "\n",
        "import pandas as pd\n",
        "\n",
        "df = pd.read_csv('bootcamp.csv')\n"
      ],
      "metadata": {
        "id": "gbN_r9U2KMyp"
      },
      "execution_count": 4,
      "outputs": []
    },
    {
      "cell_type": "code",
      "source": [
        "# Arquivo csv com os ID's do clientes da API\n",
        "user_ids = df['UserID'].tolist()\n",
        "print(user_ids)"
      ],
      "metadata": {
        "colab": {
          "base_uri": "https://localhost:8080/"
        },
        "id": "iPWvThseSAe4",
        "outputId": "60740df2-4f39-4203-aa79-9b68a3a4e209"
      },
      "execution_count": 5,
      "outputs": [
        {
          "output_type": "stream",
          "name": "stdout",
          "text": [
            "[606, 605, 604]\n"
          ]
        }
      ]
    },
    {
      "cell_type": "code",
      "source": [
        "import requests # Para chamadas http\n",
        "import json\n",
        "\n",
        "def get_user(id):\n",
        "  response = requests.get(f'{api_url}/users/{id}')\n",
        "  return response.json() if response.status_code == 200 else None\n",
        "  # Retorna a função json se o status code (da API) do response for igual a 200\n",
        "\n",
        "users= [user for id in user_ids if (user := get_user(id)) is not None]\n",
        "# Chama a função get_user dentro da list comprehension, se não for None ele retorna a função\n",
        "print(json.dumps(users, indent=2)) # Visualizar os user com indentação\n",
        "\n"
      ],
      "metadata": {
        "colab": {
          "base_uri": "https://localhost:8080/"
        },
        "id": "-18qQe04XMTg",
        "outputId": "a720a2c4-f913-4031-95c4-4cfd8b326c3c"
      },
      "execution_count": 6,
      "outputs": [
        {
          "output_type": "stream",
          "name": "stdout",
          "text": [
            "[\n",
            "  {\n",
            "    \"id\": 606,\n",
            "    \"name\": \"Cassandra\",\n",
            "    \"account\": {\n",
            "      \"id\": 616,\n",
            "      \"number\": \"00000-88\",\n",
            "      \"agency\": \"0008\",\n",
            "      \"balance\": 0.0,\n",
            "      \"limit\": 8000.0\n",
            "    },\n",
            "    \"card\": {\n",
            "      \"id\": 580,\n",
            "      \"number\": \"**** **** **** 0348\",\n",
            "      \"limit\": 0.0\n",
            "    },\n",
            "    \"features\": [],\n",
            "    \"news\": []\n",
            "  },\n",
            "  {\n",
            "    \"id\": 605,\n",
            "    \"name\": \"Elizabeth\",\n",
            "    \"account\": {\n",
            "      \"id\": 615,\n",
            "      \"number\": \"00000-63\",\n",
            "      \"agency\": \"0006\",\n",
            "      \"balance\": 0.0,\n",
            "      \"limit\": 3000.0\n",
            "    },\n",
            "    \"card\": {\n",
            "      \"id\": 579,\n",
            "      \"number\": \"**** **** **** 0263\",\n",
            "      \"limit\": 0.0\n",
            "    },\n",
            "    \"features\": [],\n",
            "    \"news\": []\n",
            "  },\n",
            "  {\n",
            "    \"id\": 604,\n",
            "    \"name\": \"Beatrix\",\n",
            "    \"account\": {\n",
            "      \"id\": 614,\n",
            "      \"number\": \"00000-13\",\n",
            "      \"agency\": \"0003\",\n",
            "      \"balance\": 0.0,\n",
            "      \"limit\": 3000.0\n",
            "    },\n",
            "    \"card\": {\n",
            "      \"id\": 578,\n",
            "      \"number\": \"**** **** **** 0153\",\n",
            "      \"limit\": 0.0\n",
            "    },\n",
            "    \"features\": [],\n",
            "    \"news\": []\n",
            "  }\n",
            "]\n"
          ]
        }
      ]
    },
    {
      "cell_type": "code",
      "source": [],
      "metadata": {
        "id": "-ANN37QeaBWH"
      },
      "execution_count": 6,
      "outputs": []
    },
    {
      "cell_type": "markdown",
      "source": [
        "# Fase de Transformação dos dados"
      ],
      "metadata": {
        "id": "P7VXks1TabxY"
      }
    },
    {
      "cell_type": "code",
      "source": [
        "# Criando função para atualizar uma mensagem para cada ID extraída da API\n",
        "def msg_user(user):\n",
        "    name = user['name']\n",
        "    news = f'Oi, {name}! invista para fazer seu dinheiro crescer. Seu futuro financeiro depende disso!'\n",
        "    user['news'] = [{'description': news}]\n",
        "    return user\n",
        "\n",
        "for user in users:\n",
        "  news = msg_user(user)\n",
        "\n",
        "\n",
        "print(json.dumps(users, indent=2))"
      ],
      "metadata": {
        "colab": {
          "base_uri": "https://localhost:8080/"
        },
        "id": "Ha58k_LU8nGt",
        "outputId": "932cccd5-1d8d-4825-922f-93140b70b16a"
      },
      "execution_count": 15,
      "outputs": [
        {
          "output_type": "stream",
          "name": "stdout",
          "text": [
            "[\n",
            "  {\n",
            "    \"id\": 606,\n",
            "    \"name\": \"Cassandra\",\n",
            "    \"account\": {\n",
            "      \"id\": 616,\n",
            "      \"number\": \"00000-88\",\n",
            "      \"agency\": \"0008\",\n",
            "      \"balance\": 0.0,\n",
            "      \"limit\": 8000.0\n",
            "    },\n",
            "    \"card\": {\n",
            "      \"id\": 580,\n",
            "      \"number\": \"**** **** **** 0348\",\n",
            "      \"limit\": 0.0\n",
            "    },\n",
            "    \"features\": [],\n",
            "    \"news\": [\n",
            "      {\n",
            "        \"description\": \"Oi, Cassandra! invista para fazer seu dinheiro crescer. Seu futuro financeiro depende disso!\"\n",
            "      }\n",
            "    ]\n",
            "  },\n",
            "  {\n",
            "    \"id\": 605,\n",
            "    \"name\": \"Elizabeth\",\n",
            "    \"account\": {\n",
            "      \"id\": 615,\n",
            "      \"number\": \"00000-63\",\n",
            "      \"agency\": \"0006\",\n",
            "      \"balance\": 0.0,\n",
            "      \"limit\": 3000.0\n",
            "    },\n",
            "    \"card\": {\n",
            "      \"id\": 579,\n",
            "      \"number\": \"**** **** **** 0263\",\n",
            "      \"limit\": 0.0\n",
            "    },\n",
            "    \"features\": [],\n",
            "    \"news\": [\n",
            "      {\n",
            "        \"description\": \"Oi, Elizabeth! invista para fazer seu dinheiro crescer. Seu futuro financeiro depende disso!\"\n",
            "      }\n",
            "    ]\n",
            "  },\n",
            "  {\n",
            "    \"id\": 604,\n",
            "    \"name\": \"Beatrix\",\n",
            "    \"account\": {\n",
            "      \"id\": 614,\n",
            "      \"number\": \"00000-13\",\n",
            "      \"agency\": \"0003\",\n",
            "      \"balance\": 0.0,\n",
            "      \"limit\": 3000.0\n",
            "    },\n",
            "    \"card\": {\n",
            "      \"id\": 578,\n",
            "      \"number\": \"**** **** **** 0153\",\n",
            "      \"limit\": 0.0\n",
            "    },\n",
            "    \"features\": [],\n",
            "    \"news\": [\n",
            "      {\n",
            "        \"description\": \"Oi, Beatrix! invista para fazer seu dinheiro crescer. Seu futuro financeiro depende disso!\"\n",
            "      }\n",
            "    ]\n",
            "  }\n",
            "]\n"
          ]
        }
      ]
    },
    {
      "cell_type": "markdown",
      "source": [
        "# Fase de Atualização da lista\n"
      ],
      "metadata": {
        "id": "SvqkGZCLpaP6"
      }
    },
    {
      "cell_type": "code",
      "source": [
        "# Atualize a lista de \"news\" de cada usuário na API com a nova mensagem gerada.\n",
        "\n",
        "def update_user(user):\n",
        "  response = requests.put(f\"{api_url}/users/{user['id']}\", json=user)\n",
        "  print(f\"Response code: {response.status_code}\")\n",
        "  return True if response.status_code == 200 else False\n",
        "\n",
        "for user in users:\n",
        "  success = update_user(user)\n",
        "  print(f\"User {user['name']} updated? {success}!\")\n",
        "\n",
        "# Conferindo se o updated dos dados foi feito com sucesso."
      ],
      "metadata": {
        "colab": {
          "base_uri": "https://localhost:8080/"
        },
        "id": "OgQ_qBlgpiew",
        "outputId": "d9c117be-15f9-4c71-bf61-8f2a8a751d13"
      },
      "execution_count": 16,
      "outputs": [
        {
          "output_type": "stream",
          "name": "stdout",
          "text": [
            "Response code: 200\n",
            "User Cassandra updated? True!\n",
            "Response code: 200\n",
            "User Elizabeth updated? True!\n",
            "Response code: 200\n",
            "User Beatrix updated? True!\n"
          ]
        }
      ]
    },
    {
      "cell_type": "code",
      "source": [],
      "metadata": {
        "id": "ADGQRl483V8i"
      },
      "execution_count": 9,
      "outputs": []
    }
  ]
}